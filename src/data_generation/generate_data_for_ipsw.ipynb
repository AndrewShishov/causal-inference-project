{
 "cells": [
  {
   "cell_type": "code",
   "execution_count": 1,
   "metadata": {},
   "outputs": [
    {
     "name": "stdout",
     "output_type": "stream",
     "text": [
      "IPSW test data generated and saved to 'ipsw_test_data.csv'\n"
     ]
    }
   ],
   "source": [
    "import pandas as pd\n",
    "import numpy as np\n",
    "\n",
    "def generate_ipsw_test_data(n_samples=1000, seed=42):\n",
    "    \"\"\"\n",
    "    Generates a synthetic dataset suitable for testing Inverse Propensity Score Weighting (IPSW).\n",
    "\n",
    "    Args:\n",
    "        n_samples (int): The number of samples to generate.\n",
    "        seed (int): Random seed for reproducibility.\n",
    "\n",
    "    Returns:\n",
    "        pd.DataFrame: A DataFrame containing the synthetic data.\n",
    "    \"\"\"\n",
    "    np.random.seed(seed)\n",
    "\n",
    "    # Generate covariates (features)\n",
    "    covariate_1 = np.random.normal(0, 1, n_samples)\n",
    "    covariate_2 = np.random.uniform(-2, 2, n_samples)\n",
    "    covariate_3 = np.random.binomial(1, 0.4, n_samples)  # Binary covariate\n",
    "\n",
    "    # Simulate treatment assignment (propensity score)\n",
    "    # The probability of treatment depends on the covariates\n",
    "    propensity_score = 1 / (1 + np.exp(-(0.5 * covariate_1 + 0.8 * covariate_2 + 1.2 * covariate_3)))\n",
    "    treatment = np.random.binomial(1, propensity_score, n_samples)\n",
    "\n",
    "    # Simulate outcome variable\n",
    "    # Outcome depends on covariates, treatment, and some random noise\n",
    "    # We introduce a treatment effect here\n",
    "    treatment_effect = 2.5\n",
    "    outcome = 1.5 * covariate_1 + 2 * covariate_2 - 1 * covariate_3 + treatment_effect * treatment + np.random.normal(0, 2, n_samples)\n",
    "\n",
    "    # Create DataFrame\n",
    "    data = pd.DataFrame({\n",
    "        'covariate_1': covariate_1,\n",
    "        'covariate_2': covariate_2,\n",
    "        'covariate_3': covariate_3,\n",
    "        'treated': treatment,\n",
    "        'outcome': outcome,\n",
    "    })\n",
    "    \n",
    "    # Add an ID column, that does not influence anything for better testing\n",
    "    data['ID'] = range(n_samples)\n",
    "\n",
    "    return data\n",
    "\n",
    "# Example usage to create a CSV:\n",
    "test_data = generate_ipsw_test_data(n_samples=1000, seed=42)\n",
    "test_data.to_csv(\"ipsw_test_data.csv\", index=False)\n",
    "\n",
    "print(\"IPSW test data generated and saved to 'ipsw_test_data.csv'\")\n"
   ]
  },
  {
   "cell_type": "code",
   "execution_count": null,
   "metadata": {},
   "outputs": [],
   "source": []
  },
  {
   "cell_type": "code",
   "execution_count": null,
   "metadata": {},
   "outputs": [],
   "source": []
  },
  {
   "cell_type": "code",
   "execution_count": null,
   "metadata": {},
   "outputs": [],
   "source": []
  },
  {
   "cell_type": "code",
   "execution_count": null,
   "metadata": {},
   "outputs": [],
   "source": []
  },
  {
   "cell_type": "code",
   "execution_count": null,
   "metadata": {},
   "outputs": [],
   "source": []
  }
 ],
 "metadata": {
  "kernelspec": {
   "display_name": "Python 3",
   "language": "python",
   "name": "python3"
  },
  "language_info": {
   "codemirror_mode": {
    "name": "ipython",
    "version": 3
   },
   "file_extension": ".py",
   "mimetype": "text/x-python",
   "name": "python",
   "nbconvert_exporter": "python",
   "pygments_lexer": "ipython3",
   "version": "3.12.0"
  }
 },
 "nbformat": 4,
 "nbformat_minor": 2
}
