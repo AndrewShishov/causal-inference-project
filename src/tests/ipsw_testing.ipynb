{
 "cells": [
  {
   "cell_type": "code",
   "execution_count": 1,
   "metadata": {},
   "outputs": [],
   "source": [
    "import numpy as np\n",
    "import pandas as pd\n",
    "from sklearn.linear_model import LogisticRegression\n",
    "from scipy.stats import norm\n",
    "from statsmodels.stats.weightstats import DescrStatsW\n"
   ]
  },
  {
   "cell_type": "code",
   "execution_count": 23,
   "metadata": {},
   "outputs": [],
   "source": [
    "\n",
    "# Function to generate synthetic data for testing IPSW.\n",
    "def generate_ipsw_test_data(n_samples=1000, seed=42, treatment_effect=2.5):\n",
    "    \"\"\"\n",
    "    Generates a synthetic dataset suitable for testing Inverse Propensity Score Weighting (IPSW).\n",
    "    \n",
    "    Args:\n",
    "        n_samples (int): Number of samples.\n",
    "        seed (int): Random seed.\n",
    "        treatment_effect (float): The treatment effect to apply.\n",
    "        \n",
    "    Returns:\n",
    "        pd.DataFrame: Synthetic dataset.\n",
    "    \"\"\"\n",
    "    np.random.seed(seed)\n",
    "    # Generate covariates\n",
    "    covariate_1 = np.random.normal(0, 1, n_samples)\n",
    "    covariate_2 = np.random.uniform(-2, 2, n_samples)\n",
    "    covariate_3 = np.random.binomial(1, 0.4, n_samples)  # Binary covariate\n",
    "\n",
    "    # Simulate treatment assignment using a logistic model on the covariates.\n",
    "    propensity_score = 1 / (1 + np.exp(-(0.5 * covariate_1 + 0.8 * covariate_2 + 1.2 * covariate_3)))\n",
    "    treatment = np.random.binomial(1, propensity_score, n_samples)\n",
    "\n",
    "    # Simulate outcome. Here the outcome depends on the covariates, treatment, and added noise.\n",
    "    outcome = (1.5 * covariate_1 + 2 * covariate_2 - 1 * covariate_3 +\n",
    "               treatment_effect * treatment + np.random.normal(0, 2, n_samples))\n",
    "\n",
    "    data = pd.DataFrame({\n",
    "        'covariate_1': covariate_1,\n",
    "        'covariate_2': covariate_2,\n",
    "        'covariate_3': covariate_3,\n",
    "        'treated': treatment,\n",
    "        'outcome': outcome,\n",
    "    })\n",
    "    data['ID'] = range(n_samples)\n",
    "    return data\n"
   ]
  },
  {
   "cell_type": "code",
   "execution_count": 24,
   "metadata": {},
   "outputs": [],
   "source": [
    "\n",
    "def run_ipsw_no_streamlit(df, treatment_col='treated', outcome_col='outcome',\n",
    "                           ipsw_predictors=['covariate_1', 'covariate_2', 'covariate_3'],\n",
    "                           epsilon=1e-3):\n",
    "    \"\"\"\n",
    "    Runs the IPSW analysis on the given DataFrame without using Streamlit.\n",
    "    \n",
    "    Returns:\n",
    "        tuple: (ATE, ci_lower, ci_upper)\n",
    "    \"\"\"\n",
    "    # Prepare variables\n",
    "    X = df[ipsw_predictors]\n",
    "    T = df[treatment_col].astype(int)  # Ensure binary treatment indicator\n",
    "    Y = df[outcome_col]\n",
    "    \n",
    "    # Fit a logistic regression model for propensity score estimation\n",
    "    propensity_model = LogisticRegression(random_state=42, max_iter=1000)\n",
    "    propensity_model.fit(X, T)\n",
    "    propensity_scores = propensity_model.predict_proba(X)[:, 1]\n",
    "    \n",
    "    # Apply dynamic clipping threshold\n",
    "    propensity_scores = np.clip(propensity_scores, epsilon, 1 - epsilon)\n",
    "    \n",
    "    # Calculate weights\n",
    "    weights = np.zeros_like(T, dtype=float)\n",
    "    weights[T == 1] = 1 / propensity_scores[T == 1]\n",
    "    weights[T == 0] = 1 / (1 - propensity_scores[T == 0])\n",
    "    \n",
    "    # Compute weighted means for treated and control groups\n",
    "    treated_mean = np.average(Y[T == 1], weights=weights[T == 1])\n",
    "    control_mean = np.average(Y[T == 0], weights=weights[T == 0])\n",
    "    ATE = treated_mean - control_mean\n",
    "    \n",
    "    # Function to compute weighted standard error of the mean\n",
    "    def weighted_se(y, weights):\n",
    "        weighted_stats = DescrStatsW(y, weights=weights, ddof=1)\n",
    "        return weighted_stats.std_mean\n",
    "    \n",
    "    se_treated = weighted_se(Y[T == 1], weights[T == 1])\n",
    "    se_control = weighted_se(Y[T == 0], weights[T == 0])\n",
    "    se_ATE = np.sqrt(se_treated**2 + se_control**2)\n",
    "    \n",
    "    # Calculate 95% confidence interval for ATE\n",
    "    z_critical = norm.ppf(0.975)\n",
    "    ci_lower = ATE - z_critical * se_ATE\n",
    "    ci_upper = ATE + z_critical * se_ATE\n",
    "    \n",
    "    return ATE, ci_lower, ci_upper\n"
   ]
  },
  {
   "cell_type": "code",
   "execution_count": 25,
   "metadata": {},
   "outputs": [
    {
     "name": "stderr",
     "output_type": "stream",
     "text": [
      "100%|██████████| 2000/2000 [00:05<00:00, 342.98it/s]"
     ]
    },
    {
     "name": "stdout",
     "output_type": "stream",
     "text": [
      "False positive rate: 11.30% out of 2000 simulations\n"
     ]
    },
    {
     "name": "stderr",
     "output_type": "stream",
     "text": [
      "\n"
     ]
    }
   ],
   "source": [
    "from tqdm import tqdm\n",
    "\n",
    "\n",
    "# Simulation settings\n",
    "n_simulations = 2000  # Number of simulated experiments\n",
    "n_samples = 3000      # Samples per experiment\n",
    "false_positive_count = 0\n",
    "\n",
    "# Run the simulation with treatment_effect set to 0 (i.e., no true effect)\n",
    "for i in tqdm(range(n_simulations)):\n",
    "    df_test = generate_ipsw_test_data(n_samples=n_samples, seed=42 + i, treatment_effect=0)\n",
    "    ATE, ci_lower, ci_upper = run_ipsw_no_streamlit(df_test)\n",
    "    # If the 95% confidence interval does not include 0, consider it a false positive\n",
    "    if ci_lower > 0 or ci_upper < 0:\n",
    "        false_positive_count += 1\n",
    "\n",
    "# Calculate the percentage of false detections\n",
    "false_positive_percentage = 100 * false_positive_count / n_simulations\n",
    "print(f\"False positive rate: {false_positive_percentage:.2f}% out of {n_simulations} simulations\")\n"
   ]
  }
 ],
 "metadata": {
  "kernelspec": {
   "display_name": "Python 3",
   "language": "python",
   "name": "python3"
  },
  "language_info": {
   "codemirror_mode": {
    "name": "ipython",
    "version": 3
   },
   "file_extension": ".py",
   "mimetype": "text/x-python",
   "name": "python",
   "nbconvert_exporter": "python",
   "pygments_lexer": "ipython3",
   "version": "3.12.0"
  }
 },
 "nbformat": 4,
 "nbformat_minor": 2
}
